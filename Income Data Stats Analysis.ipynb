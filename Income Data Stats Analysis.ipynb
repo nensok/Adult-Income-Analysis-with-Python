{
 "cells": [
  {
   "cell_type": "markdown",
   "id": "17799d7b",
   "metadata": {},
   "source": [
    "#### 1.Understand the Dataset\n",
    "#### 2.Measures of Central Tendency\n",
    "#### 3.Measures of Dispersion\n",
    "#### 4.Distribution of the Data\n",
    "#### 5.Correlation"
   ]
  },
  {
   "cell_type": "markdown",
   "id": "c82a8397",
   "metadata": {},
   "source": [
    "## Dataset Information"
   ]
  },
  {
   "cell_type": "markdown",
   "id": "6a245a0a",
   "metadata": {},
   "source": [
    "The dataset contains information about the individuals’ age, gender, and several attributes affecting the income of a person.\n",
    "##### To download the data set, please visit:- https://www.kaggle.com/datasets/umangsaluja/adult-income-dataset"
   ]
  },
  {
   "cell_type": "code",
   "execution_count": 1,
   "id": "55392542",
   "metadata": {},
   "outputs": [],
   "source": [
    "import numpy as np\n",
    "import pandas as pd\n",
    "import matplotlib.pyplot as plt\n",
    "import seaborn as sns"
   ]
  },
  {
   "cell_type": "code",
   "execution_count": 3,
   "id": "00f1b328",
   "metadata": {},
   "outputs": [
    {
     "data": {
      "text/html": [
       "<div>\n",
       "<style scoped>\n",
       "    .dataframe tbody tr th:only-of-type {\n",
       "        vertical-align: middle;\n",
       "    }\n",
       "\n",
       "    .dataframe tbody tr th {\n",
       "        vertical-align: top;\n",
       "    }\n",
       "\n",
       "    .dataframe thead th {\n",
       "        text-align: right;\n",
       "    }\n",
       "</style>\n",
       "<table border=\"1\" class=\"dataframe\">\n",
       "  <thead>\n",
       "    <tr style=\"text-align: right;\">\n",
       "      <th></th>\n",
       "      <th>age</th>\n",
       "      <th>workclass</th>\n",
       "      <th>fnlwgt</th>\n",
       "      <th>education</th>\n",
       "      <th>education.num</th>\n",
       "      <th>marital.status</th>\n",
       "      <th>occupation</th>\n",
       "      <th>relationship</th>\n",
       "      <th>race</th>\n",
       "      <th>sex</th>\n",
       "      <th>capital.gain</th>\n",
       "      <th>capital.loss</th>\n",
       "      <th>hours.per.week</th>\n",
       "      <th>native.country</th>\n",
       "      <th>income</th>\n",
       "    </tr>\n",
       "  </thead>\n",
       "  <tbody>\n",
       "    <tr>\n",
       "      <th>0</th>\n",
       "      <td>90</td>\n",
       "      <td>?</td>\n",
       "      <td>77053</td>\n",
       "      <td>HS-grad</td>\n",
       "      <td>9</td>\n",
       "      <td>Widowed</td>\n",
       "      <td>?</td>\n",
       "      <td>Not-in-family</td>\n",
       "      <td>White</td>\n",
       "      <td>1</td>\n",
       "      <td>0</td>\n",
       "      <td>4356</td>\n",
       "      <td>40</td>\n",
       "      <td>United-States</td>\n",
       "      <td>&lt;=50K</td>\n",
       "    </tr>\n",
       "    <tr>\n",
       "      <th>1</th>\n",
       "      <td>82</td>\n",
       "      <td>Private</td>\n",
       "      <td>132870</td>\n",
       "      <td>HS-grad</td>\n",
       "      <td>9</td>\n",
       "      <td>Widowed</td>\n",
       "      <td>Exec-managerial</td>\n",
       "      <td>Not-in-family</td>\n",
       "      <td>White</td>\n",
       "      <td>1</td>\n",
       "      <td>0</td>\n",
       "      <td>4356</td>\n",
       "      <td>18</td>\n",
       "      <td>United-States</td>\n",
       "      <td>&lt;=50K</td>\n",
       "    </tr>\n",
       "    <tr>\n",
       "      <th>2</th>\n",
       "      <td>66</td>\n",
       "      <td>?</td>\n",
       "      <td>186061</td>\n",
       "      <td>Some-college</td>\n",
       "      <td>10</td>\n",
       "      <td>Widowed</td>\n",
       "      <td>?</td>\n",
       "      <td>Unmarried</td>\n",
       "      <td>Black</td>\n",
       "      <td>1</td>\n",
       "      <td>0</td>\n",
       "      <td>4356</td>\n",
       "      <td>40</td>\n",
       "      <td>United-States</td>\n",
       "      <td>&lt;=50K</td>\n",
       "    </tr>\n",
       "    <tr>\n",
       "      <th>3</th>\n",
       "      <td>54</td>\n",
       "      <td>Private</td>\n",
       "      <td>140359</td>\n",
       "      <td>7th-8th</td>\n",
       "      <td>4</td>\n",
       "      <td>Divorced</td>\n",
       "      <td>Machine-op-inspct</td>\n",
       "      <td>Unmarried</td>\n",
       "      <td>White</td>\n",
       "      <td>1</td>\n",
       "      <td>0</td>\n",
       "      <td>3900</td>\n",
       "      <td>40</td>\n",
       "      <td>United-States</td>\n",
       "      <td>&lt;=50K</td>\n",
       "    </tr>\n",
       "    <tr>\n",
       "      <th>4</th>\n",
       "      <td>41</td>\n",
       "      <td>Private</td>\n",
       "      <td>264663</td>\n",
       "      <td>Some-college</td>\n",
       "      <td>10</td>\n",
       "      <td>Separated</td>\n",
       "      <td>Prof-specialty</td>\n",
       "      <td>Own-child</td>\n",
       "      <td>White</td>\n",
       "      <td>1</td>\n",
       "      <td>0</td>\n",
       "      <td>3900</td>\n",
       "      <td>40</td>\n",
       "      <td>United-States</td>\n",
       "      <td>&lt;=50K</td>\n",
       "    </tr>\n",
       "  </tbody>\n",
       "</table>\n",
       "</div>"
      ],
      "text/plain": [
       "   age workclass  fnlwgt     education  education.num marital.status  \\\n",
       "0   90         ?   77053       HS-grad              9        Widowed   \n",
       "1   82   Private  132870       HS-grad              9        Widowed   \n",
       "2   66         ?  186061  Some-college             10        Widowed   \n",
       "3   54   Private  140359       7th-8th              4       Divorced   \n",
       "4   41   Private  264663  Some-college             10      Separated   \n",
       "\n",
       "          occupation   relationship   race  sex  capital.gain  capital.loss  \\\n",
       "0                  ?  Not-in-family  White    1             0          4356   \n",
       "1    Exec-managerial  Not-in-family  White    1             0          4356   \n",
       "2                  ?      Unmarried  Black    1             0          4356   \n",
       "3  Machine-op-inspct      Unmarried  White    1             0          3900   \n",
       "4     Prof-specialty      Own-child  White    1             0          3900   \n",
       "\n",
       "   hours.per.week native.country income  \n",
       "0              40  United-States  <=50K  \n",
       "1              18  United-States  <=50K  \n",
       "2              40  United-States  <=50K  \n",
       "3              40  United-States  <=50K  \n",
       "4              40  United-States  <=50K  "
      ]
     },
     "execution_count": 3,
     "metadata": {},
     "output_type": "execute_result"
    }
   ],
   "source": [
    "# loading the dataset\n",
    "data= pd.read_csv('adult_income.csv')\n",
    "data.head()"
   ]
  },
  {
   "cell_type": "code",
   "execution_count": 5,
   "id": "7e239f72",
   "metadata": {},
   "outputs": [
    {
     "name": "stdout",
     "output_type": "stream",
     "text": [
      "<class 'pandas.core.frame.DataFrame'>\n",
      "RangeIndex: 32561 entries, 0 to 32560\n",
      "Data columns (total 15 columns):\n",
      " #   Column          Non-Null Count  Dtype \n",
      "---  ------          --------------  ----- \n",
      " 0   age             32561 non-null  int64 \n",
      " 1   workclass       32561 non-null  object\n",
      " 2   fnlwgt          32561 non-null  int64 \n",
      " 3   education       32561 non-null  object\n",
      " 4   education.num   32561 non-null  int64 \n",
      " 5   marital.status  32561 non-null  object\n",
      " 6   occupation      32561 non-null  object\n",
      " 7   relationship    32561 non-null  object\n",
      " 8   race            32561 non-null  object\n",
      " 9   sex             32561 non-null  int64 \n",
      " 10  capital.gain    32561 non-null  int64 \n",
      " 11  capital.loss    32561 non-null  int64 \n",
      " 12  hours.per.week  32561 non-null  int64 \n",
      " 13  native.country  32561 non-null  object\n",
      " 14  income          32561 non-null  object\n",
      "dtypes: int64(7), object(8)\n",
      "memory usage: 3.7+ MB\n"
     ]
    }
   ],
   "source": [
    "data.info()"
   ]
  },
  {
   "cell_type": "code",
   "execution_count": 7,
   "id": "450b627d",
   "metadata": {},
   "outputs": [
    {
     "data": {
      "text/html": [
       "<div>\n",
       "<style scoped>\n",
       "    .dataframe tbody tr th:only-of-type {\n",
       "        vertical-align: middle;\n",
       "    }\n",
       "\n",
       "    .dataframe tbody tr th {\n",
       "        vertical-align: top;\n",
       "    }\n",
       "\n",
       "    .dataframe thead th {\n",
       "        text-align: right;\n",
       "    }\n",
       "</style>\n",
       "<table border=\"1\" class=\"dataframe\">\n",
       "  <thead>\n",
       "    <tr style=\"text-align: right;\">\n",
       "      <th></th>\n",
       "      <th>count</th>\n",
       "      <th>mean</th>\n",
       "      <th>std</th>\n",
       "      <th>min</th>\n",
       "      <th>25%</th>\n",
       "      <th>50%</th>\n",
       "      <th>75%</th>\n",
       "      <th>max</th>\n",
       "    </tr>\n",
       "  </thead>\n",
       "  <tbody>\n",
       "    <tr>\n",
       "      <th>age</th>\n",
       "      <td>32561.0</td>\n",
       "      <td>38.581647</td>\n",
       "      <td>13.640433</td>\n",
       "      <td>17.0</td>\n",
       "      <td>28.0</td>\n",
       "      <td>37.0</td>\n",
       "      <td>48.0</td>\n",
       "      <td>90.0</td>\n",
       "    </tr>\n",
       "    <tr>\n",
       "      <th>fnlwgt</th>\n",
       "      <td>32561.0</td>\n",
       "      <td>189778.366512</td>\n",
       "      <td>105549.977697</td>\n",
       "      <td>12285.0</td>\n",
       "      <td>117827.0</td>\n",
       "      <td>178356.0</td>\n",
       "      <td>237051.0</td>\n",
       "      <td>1484705.0</td>\n",
       "    </tr>\n",
       "    <tr>\n",
       "      <th>education.num</th>\n",
       "      <td>32561.0</td>\n",
       "      <td>10.080679</td>\n",
       "      <td>2.572720</td>\n",
       "      <td>1.0</td>\n",
       "      <td>9.0</td>\n",
       "      <td>10.0</td>\n",
       "      <td>12.0</td>\n",
       "      <td>16.0</td>\n",
       "    </tr>\n",
       "    <tr>\n",
       "      <th>sex</th>\n",
       "      <td>32561.0</td>\n",
       "      <td>0.330795</td>\n",
       "      <td>0.470506</td>\n",
       "      <td>0.0</td>\n",
       "      <td>0.0</td>\n",
       "      <td>0.0</td>\n",
       "      <td>1.0</td>\n",
       "      <td>1.0</td>\n",
       "    </tr>\n",
       "    <tr>\n",
       "      <th>capital.gain</th>\n",
       "      <td>32561.0</td>\n",
       "      <td>1077.648844</td>\n",
       "      <td>7385.292085</td>\n",
       "      <td>0.0</td>\n",
       "      <td>0.0</td>\n",
       "      <td>0.0</td>\n",
       "      <td>0.0</td>\n",
       "      <td>99999.0</td>\n",
       "    </tr>\n",
       "    <tr>\n",
       "      <th>capital.loss</th>\n",
       "      <td>32561.0</td>\n",
       "      <td>87.303830</td>\n",
       "      <td>402.960219</td>\n",
       "      <td>0.0</td>\n",
       "      <td>0.0</td>\n",
       "      <td>0.0</td>\n",
       "      <td>0.0</td>\n",
       "      <td>4356.0</td>\n",
       "    </tr>\n",
       "    <tr>\n",
       "      <th>hours.per.week</th>\n",
       "      <td>32561.0</td>\n",
       "      <td>40.431344</td>\n",
       "      <td>12.358681</td>\n",
       "      <td>0.0</td>\n",
       "      <td>40.0</td>\n",
       "      <td>40.0</td>\n",
       "      <td>45.0</td>\n",
       "      <td>99.0</td>\n",
       "    </tr>\n",
       "  </tbody>\n",
       "</table>\n",
       "</div>"
      ],
      "text/plain": [
       "                  count           mean            std      min       25%  \\\n",
       "age             32561.0      38.581647      13.640433     17.0      28.0   \n",
       "fnlwgt          32561.0  189778.366512  105549.977697  12285.0  117827.0   \n",
       "education.num   32561.0      10.080679       2.572720      1.0       9.0   \n",
       "sex             32561.0       0.330795       0.470506      0.0       0.0   \n",
       "capital.gain    32561.0    1077.648844    7385.292085      0.0       0.0   \n",
       "capital.loss    32561.0      87.303830     402.960219      0.0       0.0   \n",
       "hours.per.week  32561.0      40.431344      12.358681      0.0      40.0   \n",
       "\n",
       "                     50%       75%        max  \n",
       "age                 37.0      48.0       90.0  \n",
       "fnlwgt          178356.0  237051.0  1484705.0  \n",
       "education.num       10.0      12.0       16.0  \n",
       "sex                  0.0       1.0        1.0  \n",
       "capital.gain         0.0       0.0    99999.0  \n",
       "capital.loss         0.0       0.0     4356.0  \n",
       "hours.per.week      40.0      45.0       99.0  "
      ]
     },
     "execution_count": 7,
     "metadata": {},
     "output_type": "execute_result"
    }
   ],
   "source": [
    "data.describe().T"
   ]
  },
  {
   "cell_type": "code",
   "execution_count": 10,
   "id": "6e648c3c",
   "metadata": {},
   "outputs": [
    {
     "data": {
      "text/plain": [
       "Index(['age', 'workclass', 'fnlwgt', 'education', 'education.num',\n",
       "       'marital.status', 'occupation', 'relationship', 'race', 'sex',\n",
       "       'capital.gain', 'capital.loss', 'hours.per.week', 'native.country',\n",
       "       'income'],\n",
       "      dtype='object')"
      ]
     },
     "execution_count": 10,
     "metadata": {},
     "output_type": "execute_result"
    }
   ],
   "source": [
    "data.columns"
   ]
  },
  {
   "cell_type": "markdown",
   "id": "ec13b482",
   "metadata": {},
   "source": [
    "### Measures of Central Tendency."
   ]
  },
  {
   "cell_type": "markdown",
   "id": "9df6f32a",
   "metadata": {},
   "source": [
    "#### What is the average age of males and females in the data?"
   ]
  },
  {
   "cell_type": "code",
   "execution_count": 11,
   "id": "3ba52594",
   "metadata": {},
   "outputs": [
    {
     "data": {
      "text/plain": [
       "sex\n",
       "0    39.433547\n",
       "1    36.858230\n",
       "Name: age, dtype: float64"
      ]
     },
     "execution_count": 11,
     "metadata": {},
     "output_type": "execute_result"
    }
   ],
   "source": [
    "data.groupby('sex')['age'].mean()"
   ]
  },
  {
   "cell_type": "markdown",
   "id": "02003af5",
   "metadata": {},
   "source": [
    "#### What is the value under which 95% of the capital gain would lie?"
   ]
  },
  {
   "cell_type": "code",
   "execution_count": 12,
   "id": "68c9fb44",
   "metadata": {},
   "outputs": [
    {
     "data": {
      "text/plain": [
       "5013.0"
      ]
     },
     "execution_count": 12,
     "metadata": {},
     "output_type": "execute_result"
    }
   ],
   "source": [
    "data['capital.gain'].quantile(0.95)"
   ]
  },
  {
   "cell_type": "markdown",
   "id": "76f99650",
   "metadata": {},
   "source": [
    "#### Find the qualification of most of the Individuals."
   ]
  },
  {
   "cell_type": "code",
   "execution_count": 14,
   "id": "35a0e2b2",
   "metadata": {},
   "outputs": [
    {
     "data": {
      "text/plain": [
       "0    HS-grad\n",
       "Name: education, dtype: object"
      ]
     },
     "execution_count": 14,
     "metadata": {},
     "output_type": "execute_result"
    }
   ],
   "source": [
    "data['education'].mode()"
   ]
  },
  {
   "cell_type": "markdown",
   "id": "11c7e3d7",
   "metadata": {},
   "source": [
    "#### Find the middle most observation of age for different working class."
   ]
  },
  {
   "cell_type": "code",
   "execution_count": 15,
   "id": "6c2e0102",
   "metadata": {},
   "outputs": [
    {
     "data": {
      "text/plain": [
       "workclass\n",
       "?                   35.0\n",
       "Federal-gov         43.0\n",
       "Local-gov           41.0\n",
       "Never-worked        18.0\n",
       "Private             35.0\n",
       "Self-emp-inc        45.0\n",
       "Self-emp-not-inc    44.0\n",
       "State-gov           39.0\n",
       "Without-pay         57.0\n",
       "Name: age, dtype: float64"
      ]
     },
     "execution_count": 15,
     "metadata": {},
     "output_type": "execute_result"
    }
   ],
   "source": [
    "data.groupby('workclass')['age'].median()"
   ]
  },
  {
   "cell_type": "markdown",
   "id": "4609304d",
   "metadata": {},
   "source": [
    "#### Compare the mean and trimmed mean of capital gain and comment on the presence of outliers."
   ]
  },
  {
   "cell_type": "code",
   "execution_count": 16,
   "id": "056119c1",
   "metadata": {},
   "outputs": [
    {
     "data": {
      "text/plain": [
       "1077.6488437087312"
      ]
     },
     "execution_count": 16,
     "metadata": {},
     "output_type": "execute_result"
    }
   ],
   "source": [
    "data['capital.gain'].mean()"
   ]
  },
  {
   "cell_type": "code",
   "execution_count": 17,
   "id": "434e9e52",
   "metadata": {},
   "outputs": [
    {
     "data": {
      "text/plain": [
       "493.7085331077058"
      ]
     },
     "execution_count": 17,
     "metadata": {},
     "output_type": "execute_result"
    }
   ],
   "source": [
    "# for trimmed mean\n",
    "import scipy\n",
    "from scipy import stats\n",
    "scipy.stats.trim_mean(df['capital.gain'], proportiontocut=0.01)\n",
    "# It Returns the mean of array after trimming distribution from both tails."
   ]
  },
  {
   "cell_type": "markdown",
   "id": "1db551c7",
   "metadata": {},
   "source": [
    "#### Find the percentage of race of people in the data."
   ]
  },
  {
   "cell_type": "code",
   "execution_count": 18,
   "id": "65471f2e",
   "metadata": {},
   "outputs": [
    {
     "data": {
      "text/plain": [
       "White                 85.427352\n",
       "Black                  9.594300\n",
       "Asian-Pac-Islander     3.190934\n",
       "Amer-Indian-Eskimo     0.955130\n",
       "Other                  0.832284\n",
       "Name: race, dtype: float64"
      ]
     },
     "execution_count": 18,
     "metadata": {},
     "output_type": "execute_result"
    }
   ],
   "source": [
    "(data.race.value_counts()/len(data))*100"
   ]
  },
  {
   "cell_type": "markdown",
   "id": "31e45c53",
   "metadata": {},
   "source": [
    "### Measures of Dispersion."
   ]
  },
  {
   "cell_type": "markdown",
   "id": "f1508ddc",
   "metadata": {},
   "source": [
    "#### Which occupation has more variability in the working hours?"
   ]
  },
  {
   "cell_type": "code",
   "execution_count": 19,
   "id": "ceb2bed1",
   "metadata": {},
   "outputs": [
    {
     "data": {
      "text/plain": [
       "occupation\n",
       "Farming-fishing    17.320156\n",
       "Priv-house-serv    16.184548\n",
       "?                  15.010581\n",
       "Armed-Forces       14.071247\n",
       "Sales              13.236410\n",
       "Name: hours.per.week, dtype: float64"
      ]
     },
     "execution_count": 19,
     "metadata": {},
     "output_type": "execute_result"
    }
   ],
   "source": [
    "data.groupby('occupation')['hours.per.week'].std().sort_values(ascending= False).head(5)"
   ]
  },
  {
   "cell_type": "code",
   "execution_count": null,
   "id": "abaa53ec",
   "metadata": {},
   "outputs": [],
   "source": []
  },
  {
   "cell_type": "code",
   "execution_count": null,
   "id": "534f9c3a",
   "metadata": {},
   "outputs": [],
   "source": []
  },
  {
   "cell_type": "markdown",
   "id": "85d23762",
   "metadata": {},
   "source": [
    "#### Are there any variables which can be excluded from further analysis based on their variability?"
   ]
  },
  {
   "cell_type": "code",
   "execution_count": 20,
   "id": "781dae8d",
   "metadata": {},
   "outputs": [
    {
     "name": "stderr",
     "output_type": "stream",
     "text": [
      "C:\\Users\\Apin PC\\AppData\\Local\\Temp\\ipykernel_10600\\59999617.py:1: FutureWarning: Dropping of nuisance columns in DataFrame reductions (with 'numeric_only=None') is deprecated; in a future version this will raise TypeError.  Select only valid columns before calling the reduction.\n",
      "  data.std()\n"
     ]
    },
    {
     "data": {
      "text/plain": [
       "age                   13.640433\n",
       "fnlwgt            105549.977697\n",
       "education.num          2.572720\n",
       "sex                    0.470506\n",
       "capital.gain        7385.292085\n",
       "capital.loss         402.960219\n",
       "hours.per.week        12.358681\n",
       "dtype: float64"
      ]
     },
     "execution_count": 20,
     "metadata": {},
     "output_type": "execute_result"
    }
   ],
   "source": [
    "data.std()\n",
    "# based on the result education.num can be dropped in terms of variability."
   ]
  },
  {
   "cell_type": "markdown",
   "id": "54cc8938",
   "metadata": {},
   "source": [
    "#### Calculate the percentage of variation in work hours for each work class."
   ]
  },
  {
   "cell_type": "code",
   "execution_count": 21,
   "id": "43a82955",
   "metadata": {},
   "outputs": [
    {
     "data": {
      "text/plain": [
       "workclass\n",
       "?                   46.711116\n",
       "Federal-gov         21.360037\n",
       "Local-gov           26.283120\n",
       "Never-worked              NaN\n",
       "Private             27.954085\n",
       "Self-emp-inc        28.473900\n",
       "Self-emp-not-inc    37.537713\n",
       "State-gov           29.968071\n",
       "Without-pay         53.059084\n",
       "Name: hours.per.week, dtype: float64"
      ]
     },
     "execution_count": 21,
     "metadata": {},
     "output_type": "execute_result"
    }
   ],
   "source": [
    "(data.groupby('workclass')['hours.per.week'].std()/data.groupby('workclass')['hours.per.week'].mean()) * 100"
   ]
  },
  {
   "cell_type": "markdown",
   "id": "145c133a",
   "metadata": {},
   "source": [
    "### Distribution of the Data."
   ]
  },
  {
   "cell_type": "code",
   "execution_count": 22,
   "id": "80f4817f",
   "metadata": {},
   "outputs": [],
   "source": [
    "# Here we prepare the function by which we can analyze our categorical columns. It's best practice to have function for Univariate Analysis. \n",
    "def dist_data(columns):\n",
    "    sns.countplot(data=data, x=columns)\n",
    "    plt.xticks(rotation=90)\n",
    "    plt.show()\n",
    "    print('Mode is',data[columns].mode()[0])"
   ]
  },
  {
   "cell_type": "code",
   "execution_count": 23,
   "id": "dd3ad6d9",
   "metadata": {},
   "outputs": [
    {
     "data": {
      "image/png": "[encoded data removed]",
      "text/plain": [
       "<Figure size 432x288 with 1 Axes>"
      ]
     },
     "metadata": {
      "needs_background": "light"
     },
     "output_type": "display_data"
    },
    {
     "name": "stdout",
     "output_type": "stream",
     "text": [
      "Mode is 0\n"
     ]
    }
   ],
   "source": [
    "dist_data('sex')"
   ]
  },
  {
   "cell_type": "code",
   "execution_count": 24,
   "id": "4b278da1",
   "metadata": {},
   "outputs": [
    {
     "data": {
      "image/png": "[encoded data removed]",
      "text/plain": [
       "<Figure size 432x288 with 1 Axes>"
      ]
     },
     "metadata": {
      "needs_background": "light"
     },
     "output_type": "display_data"
    },
    {
     "name": "stdout",
     "output_type": "stream",
     "text": [
      "Mode is HS-grad\n"
     ]
    }
   ],
   "source": [
    "dist_data('education')"
   ]
  },
  {
   "cell_type": "code",
   "execution_count": 25,
   "id": "ea7b939d",
   "metadata": {},
   "outputs": [
    {
     "data": {
      "image/png": "[encoded data removed]",
      "text/plain": [
       "<Figure size 432x288 with 1 Axes>"
      ]
     },
     "metadata": {
      "needs_background": "light"
     },
     "output_type": "display_data"
    },
    {
     "name": "stdout",
     "output_type": "stream",
     "text": [
      "Mode is Husband\n"
     ]
    }
   ],
   "source": [
    "dist_data('relationship')"
   ]
  },
  {
   "cell_type": "code",
   "execution_count": 26,
   "id": "891bde9e",
   "metadata": {},
   "outputs": [
    {
     "data": {
      "image/png": "[encoded data removed]",
      "text/plain": [
       "<Figure size 432x288 with 1 Axes>"
      ]
     },
     "metadata": {
      "needs_background": "light"
     },
     "output_type": "display_data"
    },
    {
     "name": "stdout",
     "output_type": "stream",
     "text": [
      "Mode is Private\n"
     ]
    }
   ],
   "source": [
    "dist_data('workclass')"
   ]
  },
  {
   "cell_type": "markdown",
   "id": "b05bda9f",
   "metadata": {},
   "source": [
    "#### Find the variables which have normal distribution."
   ]
  },
  {
   "cell_type": "code",
   "execution_count": 27,
   "id": "76a094eb",
   "metadata": {},
   "outputs": [
    {
     "name": "stderr",
     "output_type": "stream",
     "text": [
      "C:\\ProgramData\\Anaconda3\\lib\\site-packages\\seaborn\\distributions.py:2619: FutureWarning: `distplot` is a deprecated function and will be removed in a future version. Please adapt your code to use either `displot` (a figure-level function with similar flexibility) or `histplot` (an axes-level function for histograms).\n",
      "  warnings.warn(msg, FutureWarning)\n"
     ]
    },
    {
     "name": "stdout",
     "output_type": "stream",
     "text": [
      "age 0.5587433694130483\n"
     ]
    },
    {
     "name": "stderr",
     "output_type": "stream",
     "text": [
      "C:\\ProgramData\\Anaconda3\\lib\\site-packages\\seaborn\\distributions.py:2619: FutureWarning: `distplot` is a deprecated function and will be removed in a future version. Please adapt your code to use either `displot` (a figure-level function with similar flexibility) or `histplot` (an axes-level function for histograms).\n",
      "  warnings.warn(msg, FutureWarning)\n"
     ]
    },
    {
     "name": "stdout",
     "output_type": "stream",
     "text": [
      "fnlwgt 1.4469800945789828\n"
     ]
    },
    {
     "name": "stderr",
     "output_type": "stream",
     "text": [
      "C:\\ProgramData\\Anaconda3\\lib\\site-packages\\seaborn\\distributions.py:2619: FutureWarning: `distplot` is a deprecated function and will be removed in a future version. Please adapt your code to use either `displot` (a figure-level function with similar flexibility) or `histplot` (an axes-level function for histograms).\n",
      "  warnings.warn(msg, FutureWarning)\n"
     ]
    },
    {
     "name": "stdout",
     "output_type": "stream",
     "text": [
      "education.num -0.31167586791022966\n"
     ]
    },
    {
     "name": "stderr",
     "output_type": "stream",
     "text": [
      "C:\\ProgramData\\Anaconda3\\lib\\site-packages\\seaborn\\distributions.py:2619: FutureWarning: `distplot` is a deprecated function and will be removed in a future version. Please adapt your code to use either `displot` (a figure-level function with similar flexibility) or `histplot` (an axes-level function for histograms).\n",
      "  warnings.warn(msg, FutureWarning)\n"
     ]
    },
    {
     "name": "stdout",
     "output_type": "stream",
     "text": [
      "sex 0.7192925505964604\n"
     ]
    },
    {
     "name": "stderr",
     "output_type": "stream",
     "text": [
      "C:\\ProgramData\\Anaconda3\\lib\\site-packages\\seaborn\\distributions.py:2619: FutureWarning: `distplot` is a deprecated function and will be removed in a future version. Please adapt your code to use either `displot` (a figure-level function with similar flexibility) or `histplot` (an axes-level function for histograms).\n",
      "  warnings.warn(msg, FutureWarning)\n"
     ]
    },
    {
     "name": "stdout",
     "output_type": "stream",
     "text": [
      "capital.gain 11.953847687699794\n"
     ]
    },
    {
     "name": "stderr",
     "output_type": "stream",
     "text": [
      "C:\\ProgramData\\Anaconda3\\lib\\site-packages\\seaborn\\distributions.py:2619: FutureWarning: `distplot` is a deprecated function and will be removed in a future version. Please adapt your code to use either `displot` (a figure-level function with similar flexibility) or `histplot` (an axes-level function for histograms).\n",
      "  warnings.warn(msg, FutureWarning)\n"
     ]
    },
    {
     "name": "stdout",
     "output_type": "stream",
     "text": [
      "capital.loss 4.594629121679696\n"
     ]
    },
    {
     "name": "stderr",
     "output_type": "stream",
     "text": [
      "C:\\ProgramData\\Anaconda3\\lib\\site-packages\\seaborn\\distributions.py:2619: FutureWarning: `distplot` is a deprecated function and will be removed in a future version. Please adapt your code to use either `displot` (a figure-level function with similar flexibility) or `histplot` (an axes-level function for histograms).\n",
      "  warnings.warn(msg, FutureWarning)\n"
     ]
    },
    {
     "name": "stdout",
     "output_type": "stream",
     "text": [
      "hours.per.week 0.22224067717684567\n"
     ]
    },
    {
     "data": {
      "image/png": "[encoded data removed]",
      "text/plain": [
       "<Figure size 1440x1080 with 7 Axes>"
      ]
     },
     "metadata": {
      "needs_background": "light"
     },
     "output_type": "display_data"
    }
   ],
   "source": [
    "# To check for Normal distributions among variable\n",
    "plt.figure(figsize=(20,15))\n",
    "j=1\n",
    "for i in data.columns:\n",
    "    if data[i].dtypes == 'float64' or data[i].dtypes == 'int64':\n",
    "        plt.subplot(5,4,j)\n",
    "        sns.distplot(data[i])\n",
    "        j+=1\n",
    "        print(data[i].name,data[i].skew())\n",
    "plt.tight_layout()\n",
    "plt.show()\n",
    "# we can see that variables like fnlwgt,capital.gain,capital.loss are highly skewed."
   ]
  },
  {
   "cell_type": "markdown",
   "id": "0257a603",
   "metadata": {},
   "source": [
    "#### Find the working class for most of the population in the data."
   ]
  },
  {
   "cell_type": "code",
   "execution_count": 28,
   "id": "9a47178f",
   "metadata": {},
   "outputs": [
    {
     "data": {
      "text/plain": [
       "<AxesSubplot:>"
      ]
     },
     "execution_count": 28,
     "metadata": {},
     "output_type": "execute_result"
    },
    {
     "data": {
      "image/png": "[encoded data removed]",
      "text/plain": [
       "<Figure size 432x288 with 1 Axes>"
      ]
     },
     "metadata": {
      "needs_background": "light"
     },
     "output_type": "display_data"
    }
   ],
   "source": [
    "data.workclass.value_counts().plot(kind='bar',color='red')"
   ]
  },
  {
   "cell_type": "markdown",
   "id": "b81957e0",
   "metadata": {},
   "source": [
    "#### How much time are most of the individuals working per week?"
   ]
  },
  {
   "cell_type": "code",
   "execution_count": 29,
   "id": "fd15e49e",
   "metadata": {},
   "outputs": [
    {
     "data": {
      "text/plain": [
       "40    15214\n",
       "50     2819\n",
       "45     1824\n",
       "60     1475\n",
       "35     1296\n",
       "      ...  \n",
       "94        1\n",
       "82        1\n",
       "92        1\n",
       "87        1\n",
       "74        1\n",
       "Name: hours.per.week, Length: 95, dtype: int64"
      ]
     },
     "execution_count": 29,
     "metadata": {},
     "output_type": "execute_result"
    }
   ],
   "source": [
    "data['hours.per.week'].value_counts()"
   ]
  },
  {
   "cell_type": "markdown",
   "id": "17b792e8",
   "metadata": {},
   "source": [
    "### Correlation.\n"
   ]
  },
  {
   "cell_type": "markdown",
   "id": "89f2b7b9",
   "metadata": {},
   "source": [
    "#### Find the effect of age on the working hours of a person."
   ]
  },
  {
   "cell_type": "code",
   "execution_count": 30,
   "id": "d980b15d",
   "metadata": {},
   "outputs": [
    {
     "data": {
      "text/html": [
       "<div>\n",
       "<style scoped>\n",
       "    .dataframe tbody tr th:only-of-type {\n",
       "        vertical-align: middle;\n",
       "    }\n",
       "\n",
       "    .dataframe tbody tr th {\n",
       "        vertical-align: top;\n",
       "    }\n",
       "\n",
       "    .dataframe thead th {\n",
       "        text-align: right;\n",
       "    }\n",
       "</style>\n",
       "<table border=\"1\" class=\"dataframe\">\n",
       "  <thead>\n",
       "    <tr style=\"text-align: right;\">\n",
       "      <th></th>\n",
       "      <th>age</th>\n",
       "      <th>hours.per.week</th>\n",
       "    </tr>\n",
       "  </thead>\n",
       "  <tbody>\n",
       "    <tr>\n",
       "      <th>age</th>\n",
       "      <td>1.000000</td>\n",
       "      <td>0.069311</td>\n",
       "    </tr>\n",
       "    <tr>\n",
       "      <th>hours.per.week</th>\n",
       "      <td>0.069311</td>\n",
       "      <td>1.000000</td>\n",
       "    </tr>\n",
       "  </tbody>\n",
       "</table>\n",
       "</div>"
      ],
      "text/plain": [
       "                     age  hours.per.week\n",
       "age             1.000000        0.069311\n",
       "hours.per.week  0.069311        1.000000"
      ]
     },
     "execution_count": 30,
     "metadata": {},
     "output_type": "execute_result"
    }
   ],
   "source": [
    "data[['age','hours.per.week']].corr()"
   ]
  },
  {
   "cell_type": "markdown",
   "id": "7e1e7577",
   "metadata": {},
   "source": [
    "#### Create the upper triangular correlation matrix"
   ]
  },
  {
   "cell_type": "code",
   "execution_count": 31,
   "id": "d50ada46",
   "metadata": {},
   "outputs": [
    {
     "data": {
      "image/png": "[encoded data removed]",
      "text/plain": [
       "<Figure size 432x288 with 2 Axes>"
      ]
     },
     "metadata": {
      "needs_background": "light"
     },
     "output_type": "display_data"
    }
   ],
   "source": [
    "array = np.zeros_like(data.corr())\n",
    "array[np.tril_indices_from(array,k=-1)]=True\n",
    "sns.heatmap(data.corr(),mask= array,annot=True)\n",
    "plt.show()"
   ]
  },
  {
   "cell_type": "code",
   "execution_count": null,
   "id": "fa9e5448",
   "metadata": {},
   "outputs": [],
   "source": []
  },
  {
   "cell_type": "code",
   "execution_count": null,
   "id": "7eb35db5",
   "metadata": {},
   "outputs": [],
   "source": []
  }
 ],
 "metadata": {
  "kernelspec": {
   "display_name": "Python 3 (ipykernel)",
   "language": "python",
   "name": "python3"
  },
  "language_info": {
   "codemirror_mode": {
    "name": "ipython",
    "version": 3
   },
   "file_extension": ".py",
   "mimetype": "text/x-python",
   "name": "python",
   "nbconvert_exporter": "python",
   "pygments_lexer": "ipython3",
   "version": "3.9.12"
  }
 },
 "nbformat": 4,
 "nbformat_minor": 5
}
